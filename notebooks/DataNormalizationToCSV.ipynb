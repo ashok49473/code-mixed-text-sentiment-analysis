{
  "nbformat": 4,
  "nbformat_minor": 0,
  "metadata": {
    "colab": {
      "provenance": []
    },
    "kernelspec": {
      "name": "python3",
      "display_name": "Python 3"
    },
    "language_info": {
      "name": "python"
    }
  },
  "cells": [
    {
      "cell_type": "code",
      "execution_count": null,
      "metadata": {
        "colab": {
          "base_uri": "https://localhost:8080/"
        },
        "id": "yjxM1MC6FvWH",
        "outputId": "4cd53d4f-a061-403f-e3c9-b52c93515724"
      },
      "outputs": [
        {
          "output_type": "stream",
          "name": "stdout",
          "text": [
            "/content/drive/MyDrive/Sentiment Analysis of Code-Mixed Telugu-English Text using Sequence models. (SACMTET)/data normalization\n"
          ]
        }
      ],
      "source": [
        "%cd \"/content/drive/MyDrive/Sentiment Analysis of Code-Mixed Telugu-English Text using Sequence models. (SACMTET)/data normalization\""
      ]
    },
    {
      "cell_type": "markdown",
      "source": [
        "# Data Normalization"
      ],
      "metadata": {
        "id": "TwQuqcXKVrev"
      }
    },
    {
      "cell_type": "code",
      "source": [
        "!pip install symspellpy\n",
        "import pkg_resources\n",
        "from symspellpy import SymSpell, Verbosity\n",
        "import re"
      ],
      "metadata": {
        "colab": {
          "base_uri": "https://localhost:8080/"
        },
        "id": "0p0CczEgVuXf",
        "outputId": "b89682da-f4d5-4762-f3d6-24de064cc11b"
      },
      "execution_count": null,
      "outputs": [
        {
          "output_type": "stream",
          "name": "stdout",
          "text": [
            "Requirement already satisfied: symspellpy in /usr/local/lib/python3.7/dist-packages (6.7.6)\n",
            "Requirement already satisfied: editdistpy>=0.1.3 in /usr/local/lib/python3.7/dist-packages (from symspellpy) (0.1.3)\n"
          ]
        }
      ]
    },
    {
      "cell_type": "code",
      "source": [
        "# 5.1 Elongation Normalization\n",
        "def elongation_normalization(text):\n",
        "    text = text.lower()\n",
        "    text = re.sub(r'(.)\\1{2,}', r\"\\1\\1\", text)\n",
        "    return text\n",
        "example = \"hellooo bagundhiii, gooood\"\n",
        "elongation_normalization(example)\n"
      ],
      "metadata": {
        "colab": {
          "base_uri": "https://localhost:8080/",
          "height": 35
        },
        "id": "JOIxWbLIJKSH",
        "outputId": "0d90d156-45f6-4300-9244-15d22a61ef4d"
      },
      "execution_count": null,
      "outputs": [
        {
          "output_type": "execute_result",
          "data": {
            "application/vnd.google.colaboratory.intrinsic+json": {
              "type": "string"
            },
            "text/plain": [
              "'helloo bagundhii, good'"
            ]
          },
          "metadata": {},
          "execution_count": 3
        }
      ]
    },
    {
      "cell_type": "code",
      "source": [
        "# 5.2 Normalizing English Words\n",
        "sym_spell = SymSpell(max_dictionary_edit_distance=3)\n",
        "dictionary_path = pkg_resources.resource_filename(\"symspellpy\", \"frequency_dictionary_en_82_765.txt\")\n",
        "sym_spell.load_dictionary(dictionary_path, term_index=0, count_index=1)\n",
        "\n",
        "def eng_spelling_correction(text):\n",
        "    result = sym_spell.word_segmentation(text)\n",
        "    return result.corrected_string\n",
        "    \n",
        "example = \"thsi isa a lovely movei\"\n",
        "eng_spelling_correction(example)"
      ],
      "metadata": {
        "colab": {
          "base_uri": "https://localhost:8080/",
          "height": 35
        },
        "id": "wsWL-_IHXP3X",
        "outputId": "02383d00-a9b5-44dc-a1ae-ca51a582fa3d"
      },
      "execution_count": null,
      "outputs": [
        {
          "output_type": "execute_result",
          "data": {
            "application/vnd.google.colaboratory.intrinsic+json": {
              "type": "string"
            },
            "text/plain": [
              "'this is a lovely movie'"
            ]
          },
          "metadata": {},
          "execution_count": 4
        }
      ]
    },
    {
      "cell_type": "code",
      "source": [
        "# 5.3.1 Normalizing Transliterations\n",
        "def transliteration_normalization(text):\n",
        "    text = re.sub(r'(.)\\1{1,}', r\"\\1\", text)\n",
        "    return text\n",
        "\n",
        "example = \"tinnaavaa sarigga\"\n",
        "transliteration_normalization(example)"
      ],
      "metadata": {
        "colab": {
          "base_uri": "https://localhost:8080/",
          "height": 35
        },
        "id": "-8QfJWW_ZM7E",
        "outputId": "8bb636c9-2d15-44cf-b918-14fd94a308d3"
      },
      "execution_count": null,
      "outputs": [
        {
          "output_type": "execute_result",
          "data": {
            "application/vnd.google.colaboratory.intrinsic+json": {
              "type": "string"
            },
            "text/plain": [
              "'tinava sariga'"
            ]
          },
          "metadata": {},
          "execution_count": 5
        }
      ]
    },
    {
      "cell_type": "code",
      "source": [
        "# Normalizing Aspirated Consonants\n",
        "def consonant_normalization(text):\n",
        "    text = text.replace('kh', 'k')\n",
        "    text = text.replace('chh', 'ch')\n",
        "    text = text.replace('gh', 'g')\n",
        "    text = text.replace('th', 't')\n",
        "    text = text.replace('jh', 'j')\n",
        "    text = text.replace('dh', 'd')\n",
        "    text = text.replace('bh', 'b')\n",
        "    return text\n",
        "    \n",
        "example = \"thinnava jharkand\"\n",
        "consonant_normalization(example)"
      ],
      "metadata": {
        "colab": {
          "base_uri": "https://localhost:8080/",
          "height": 35
        },
        "id": "UiZWjY1Y9U6z",
        "outputId": "60a1d576-07bb-4a41-9971-efbdeac80479"
      },
      "execution_count": null,
      "outputs": [
        {
          "output_type": "execute_result",
          "data": {
            "application/vnd.google.colaboratory.intrinsic+json": {
              "type": "string"
            },
            "text/plain": [
              "'tinnava jarkand'"
            ]
          },
          "metadata": {},
          "execution_count": 6
        }
      ]
    },
    {
      "cell_type": "code",
      "source": [
        "def data_normalization(text_tuple):\n",
        "    text = \"\"\n",
        "    for tupl in text_tuple:\n",
        "        word = tupl[0]\n",
        "        lang = tupl[1]\n",
        "\n",
        "        word = elongation_normalization(word) # for both languages\n",
        "\n",
        "        if lang == 'en': #english\n",
        "            word = eng_spelling_correction(word)\n",
        "            text += word + \" \"\n",
        "\n",
        "        if lang == 'te': # telugu\n",
        "            word = transliteration_normalization(word)\n",
        "            word = consonant_normalization(word)\n",
        "            text += word + \" \"\n",
        "\n",
        "        if lang == 'univ': # universal\n",
        "            text += word + \" \"\n",
        "    return text\n",
        "\n",
        "example = [('worstttt', 'en'), ('government', 'en'), ('.', 'univ'), ('#YSRCP', 'univ'), ('chala', 'te'), ('chethha', 'te'), ('ga', 'te'), ('paripalana', 'te'), ('chesthumdhi', 'te'), ('.', 'univ')]\n",
        "data_normalization(example)"
      ],
      "metadata": {
        "id": "T3s5XxMm-aA6",
        "colab": {
          "base_uri": "https://localhost:8080/",
          "height": 35
        },
        "outputId": "08dc3b08-2eb0-4a6a-aa20-16462e0d6dc7"
      },
      "execution_count": null,
      "outputs": [
        {
          "output_type": "execute_result",
          "data": {
            "application/vnd.google.colaboratory.intrinsic+json": {
              "type": "string"
            },
            "text/plain": [
              "'worst government . #ysrcp chala cheta ga paripalana chestumdi . '"
            ]
          },
          "metadata": {},
          "execution_count": 7
        }
      ]
    },
    {
      "cell_type": "code",
      "source": [
        "with open('codemix_sentiment_data.txt') as f:\n",
        "    df = f.readlines()"
      ],
      "metadata": {
        "id": "l6Z68mjS-aDL"
      },
      "execution_count": null,
      "outputs": []
    },
    {
      "cell_type": "code",
      "source": [
        "labels = []\n",
        "sents = []\n",
        "for i in range(0, len(df), 4):\n",
        "    line1 = df[i]\n",
        "    line2 = df[i+1]\n",
        "\n",
        "    text = line1.replace('\\n','')\n",
        "    lang = line2.replace('\\n','')\n",
        "\n",
        "    label, sent = text[:3], text[4:]\n",
        "\n",
        "    labels.append(label)\n",
        "    out = [(word, lang) for word, lang in zip(sent.split(), lang.split())]\n",
        "    sents.append(out)"
      ],
      "metadata": {
        "id": "mv3UpAK9XPtw"
      },
      "execution_count": null,
      "outputs": []
    },
    {
      "cell_type": "code",
      "source": [
        "print(sents[0], labels[0])\n",
        "print(sents[1], labels[1])"
      ],
      "metadata": {
        "colab": {
          "base_uri": "https://localhost:8080/"
        },
        "id": "AQR64XlBuReW",
        "outputId": "54c131c3-f8f1-4d6d-e989-33284f841213"
      },
      "execution_count": null,
      "outputs": [
        {
          "output_type": "stream",
          "name": "stdout",
          "text": [
            "[('We', 'en'), ('need', 'en'), ('Mr', 'univ'), ('chari', 'univ'), (\"'s\", 'univ'), ('review', 'en'), ('on', 'en'), ('master', 'en')] NTL\n",
            "[('worst', 'en'), ('government', 'en'), ('.', 'univ'), ('#YSRCP', 'univ'), ('chala', 'te'), ('chethha', 'te'), ('ga', 'te'), ('paripalana', 'te'), ('chesthumdhi', 'te'), ('.', 'univ')] NEG\n"
          ]
        }
      ]
    },
    {
      "cell_type": "code",
      "source": [
        "import csv\n",
        "\n",
        "with open('normalized_data.csv', 'w') as f:\n",
        "    writer = csv.writer(f)\n",
        "    writer.writerow(['comment', 'label'])\n",
        "\n",
        "    for i, tupl_text in enumerate(sents):\n",
        "        if i%2500 == 0:\n",
        "            print(i)\n",
        "        text = data_normalization(tupl_text)\n",
        "        label = labels[i]\n",
        "        writer.writerow([text, label])"
      ],
      "metadata": {
        "id": "W96k1eywlcws",
        "colab": {
          "base_uri": "https://localhost:8080/"
        },
        "outputId": "d92c7b44-e4b1-4d14-a764-feb5ca86acfb"
      },
      "execution_count": null,
      "outputs": [
        {
          "output_type": "stream",
          "name": "stdout",
          "text": [
            "0\n",
            "2500\n",
            "5000\n",
            "7500\n",
            "10000\n",
            "12500\n",
            "15000\n",
            "17500\n"
          ]
        }
      ]
    },
    {
      "cell_type": "code",
      "source": [
        "import pandas as pd\n",
        "normalized_data = pd.read_csv('normalized_data.csv')\n",
        "normalized_data.head(10)"
      ],
      "metadata": {
        "colab": {
          "base_uri": "https://localhost:8080/",
          "height": 363
        },
        "id": "rz4sEo2zveMN",
        "outputId": "4572e766-6202-4ca9-c5fc-cd364388153d"
      },
      "execution_count": null,
      "outputs": [
        {
          "output_type": "execute_result",
          "data": {
            "text/html": [
              "\n",
              "  <div id=\"df-1f74b3d5-1103-4782-a489-047d2d18d4ca\">\n",
              "    <div class=\"colab-df-container\">\n",
              "      <div>\n",
              "<style scoped>\n",
              "    .dataframe tbody tr th:only-of-type {\n",
              "        vertical-align: middle;\n",
              "    }\n",
              "\n",
              "    .dataframe tbody tr th {\n",
              "        vertical-align: top;\n",
              "    }\n",
              "\n",
              "    .dataframe thead th {\n",
              "        text-align: right;\n",
              "    }\n",
              "</style>\n",
              "<table border=\"1\" class=\"dataframe\">\n",
              "  <thead>\n",
              "    <tr style=\"text-align: right;\">\n",
              "      <th></th>\n",
              "      <th>comment</th>\n",
              "      <th>label</th>\n",
              "    </tr>\n",
              "  </thead>\n",
              "  <tbody>\n",
              "    <tr>\n",
              "      <th>0</th>\n",
              "      <td>we need mr chari 's review on master</td>\n",
              "      <td>NTL</td>\n",
              "    </tr>\n",
              "    <tr>\n",
              "      <th>1</th>\n",
              "      <td>worst government . #ysrcp chala cheta ga parip...</td>\n",
              "      <td>NEG</td>\n",
              "    </tr>\n",
              "    <tr>\n",
              "      <th>2</th>\n",
              "      <td>baya nuvu emina chepu kani bagoledu ani chepak...</td>\n",
              "      <td>NEG</td>\n",
              "    </tr>\n",
              "    <tr>\n",
              "      <th>3</th>\n",
              "      <td>gadini vadilesi manchi pani chesaru @rcbtweets 👍</td>\n",
              "      <td>POS</td>\n",
              "    </tr>\n",
              "    <tr>\n",
              "      <th>4</th>\n",
              "      <td>i came to watch thyview 's review crying after...</td>\n",
              "      <td>POS</td>\n",
              "    </tr>\n",
              "    <tr>\n",
              "      <th>5</th>\n",
              "      <td>enti baya review ela ichav chala anukuna gurin...</td>\n",
              "      <td>NTL</td>\n",
              "    </tr>\n",
              "    <tr>\n",
              "      <th>6</th>\n",
              "      <td>@mechanicmastr ne basha cheptundi ra ne batuku...</td>\n",
              "      <td>NEG</td>\n",
              "    </tr>\n",
              "    <tr>\n",
              "      <th>7</th>\n",
              "      <td>great bro single day 3 movies chusi reviews ch...</td>\n",
              "      <td>NTL</td>\n",
              "    </tr>\n",
              "    <tr>\n",
              "      <th>8</th>\n",
              "      <td>@puremass ante apudu online lo yavaru leru kab...</td>\n",
              "      <td>POS</td>\n",
              "    </tr>\n",
              "    <tr>\n",
              "      <th>9</th>\n",
              "      <td>what works and what does ’ to in mesam ! .</td>\n",
              "      <td>NTL</td>\n",
              "    </tr>\n",
              "  </tbody>\n",
              "</table>\n",
              "</div>\n",
              "      <button class=\"colab-df-convert\" onclick=\"convertToInteractive('df-1f74b3d5-1103-4782-a489-047d2d18d4ca')\"\n",
              "              title=\"Convert this dataframe to an interactive table.\"\n",
              "              style=\"display:none;\">\n",
              "        \n",
              "  <svg xmlns=\"http://www.w3.org/2000/svg\" height=\"24px\"viewBox=\"0 0 24 24\"\n",
              "       width=\"24px\">\n",
              "    <path d=\"M0 0h24v24H0V0z\" fill=\"none\"/>\n",
              "    <path d=\"M18.56 5.44l.94 2.06.94-2.06 2.06-.94-2.06-.94-.94-2.06-.94 2.06-2.06.94zm-11 1L8.5 8.5l.94-2.06 2.06-.94-2.06-.94L8.5 2.5l-.94 2.06-2.06.94zm10 10l.94 2.06.94-2.06 2.06-.94-2.06-.94-.94-2.06-.94 2.06-2.06.94z\"/><path d=\"M17.41 7.96l-1.37-1.37c-.4-.4-.92-.59-1.43-.59-.52 0-1.04.2-1.43.59L10.3 9.45l-7.72 7.72c-.78.78-.78 2.05 0 2.83L4 21.41c.39.39.9.59 1.41.59.51 0 1.02-.2 1.41-.59l7.78-7.78 2.81-2.81c.8-.78.8-2.07 0-2.86zM5.41 20L4 18.59l7.72-7.72 1.47 1.35L5.41 20z\"/>\n",
              "  </svg>\n",
              "      </button>\n",
              "      \n",
              "  <style>\n",
              "    .colab-df-container {\n",
              "      display:flex;\n",
              "      flex-wrap:wrap;\n",
              "      gap: 12px;\n",
              "    }\n",
              "\n",
              "    .colab-df-convert {\n",
              "      background-color: #E8F0FE;\n",
              "      border: none;\n",
              "      border-radius: 50%;\n",
              "      cursor: pointer;\n",
              "      display: none;\n",
              "      fill: #1967D2;\n",
              "      height: 32px;\n",
              "      padding: 0 0 0 0;\n",
              "      width: 32px;\n",
              "    }\n",
              "\n",
              "    .colab-df-convert:hover {\n",
              "      background-color: #E2EBFA;\n",
              "      box-shadow: 0px 1px 2px rgba(60, 64, 67, 0.3), 0px 1px 3px 1px rgba(60, 64, 67, 0.15);\n",
              "      fill: #174EA6;\n",
              "    }\n",
              "\n",
              "    [theme=dark] .colab-df-convert {\n",
              "      background-color: #3B4455;\n",
              "      fill: #D2E3FC;\n",
              "    }\n",
              "\n",
              "    [theme=dark] .colab-df-convert:hover {\n",
              "      background-color: #434B5C;\n",
              "      box-shadow: 0px 1px 3px 1px rgba(0, 0, 0, 0.15);\n",
              "      filter: drop-shadow(0px 1px 2px rgba(0, 0, 0, 0.3));\n",
              "      fill: #FFFFFF;\n",
              "    }\n",
              "  </style>\n",
              "\n",
              "      <script>\n",
              "        const buttonEl =\n",
              "          document.querySelector('#df-1f74b3d5-1103-4782-a489-047d2d18d4ca button.colab-df-convert');\n",
              "        buttonEl.style.display =\n",
              "          google.colab.kernel.accessAllowed ? 'block' : 'none';\n",
              "\n",
              "        async function convertToInteractive(key) {\n",
              "          const element = document.querySelector('#df-1f74b3d5-1103-4782-a489-047d2d18d4ca');\n",
              "          const dataTable =\n",
              "            await google.colab.kernel.invokeFunction('convertToInteractive',\n",
              "                                                     [key], {});\n",
              "          if (!dataTable) return;\n",
              "\n",
              "          const docLinkHtml = 'Like what you see? Visit the ' +\n",
              "            '<a target=\"_blank\" href=https://colab.research.google.com/notebooks/data_table.ipynb>data table notebook</a>'\n",
              "            + ' to learn more about interactive tables.';\n",
              "          element.innerHTML = '';\n",
              "          dataTable['output_type'] = 'display_data';\n",
              "          await google.colab.output.renderOutput(dataTable, element);\n",
              "          const docLink = document.createElement('div');\n",
              "          docLink.innerHTML = docLinkHtml;\n",
              "          element.appendChild(docLink);\n",
              "        }\n",
              "      </script>\n",
              "    </div>\n",
              "  </div>\n",
              "  "
            ],
            "text/plain": [
              "                                             comment label\n",
              "0              we need mr chari 's review on master    NTL\n",
              "1  worst government . #ysrcp chala cheta ga parip...   NEG\n",
              "2  baya nuvu emina chepu kani bagoledu ani chepak...   NEG\n",
              "3  gadini vadilesi manchi pani chesaru @rcbtweets 👍    POS\n",
              "4  i came to watch thyview 's review crying after...   POS\n",
              "5  enti baya review ela ichav chala anukuna gurin...   NTL\n",
              "6  @mechanicmastr ne basha cheptundi ra ne batuku...   NEG\n",
              "7  great bro single day 3 movies chusi reviews ch...   NTL\n",
              "8  @puremass ante apudu online lo yavaru leru kab...   POS\n",
              "9        what works and what does ’ to in mesam ! .    NTL"
            ]
          },
          "metadata": {},
          "execution_count": 14
        }
      ]
    },
    {
      "cell_type": "code",
      "source": [
        "normalized_data.iloc[8].comment"
      ],
      "metadata": {
        "colab": {
          "base_uri": "https://localhost:8080/",
          "height": 35
        },
        "id": "92rt-nEa2dhT",
        "outputId": "31739235-7cca-4fae-f467-1602f83bd6da"
      },
      "execution_count": null,
      "outputs": [
        {
          "output_type": "execute_result",
          "data": {
            "application/vnd.google.colaboratory.intrinsic+json": {
              "type": "string"
            },
            "text/plain": [
              "'@puremass ante apudu online lo yavaru leru kabati reply ichav lekapote nv reply ivavu ga ana 😌 😌 '"
            ]
          },
          "metadata": {},
          "execution_count": 16
        }
      ]
    },
    {
      "cell_type": "code",
      "source": [],
      "metadata": {
        "id": "Twen960V2szJ"
      },
      "execution_count": null,
      "outputs": []
    }
  ]
}